import pandas as pd
import networkx as nx
import matplotlib.pyplot as plt
madoff_df = pd.read_csv('MADOFF.csv', index_col=0)

madoff_df = madoff_df.fillna(0)

G = nx.from_pandas_adjacency(madoff_df)

print("Nombre de noeuds :", G.number_of_nodes())
print("Nombre d'arêtes :", G.number_of_edges())
print("Densité :", nx.density(G))
print("Liste des noeuds :", list(G.nodes)[:10])
print("Liste des arêtes :", list(G.edges)[:10])
degree_sequence = [d for n, d in G.degree()]
plt.hist(degree_sequence, bins=range(max(degree_sequence)+1))
plt.title("Distribution du degré")
plt.xlabel("Degré")
plt.ylabel("Nombre de nœuds")
plt.show()

